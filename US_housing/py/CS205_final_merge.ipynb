{
 "cells": [
  {
   "cell_type": "code",
   "execution_count": 1,
   "metadata": {
    "collapsed": true
   },
   "outputs": [],
   "source": [
    "import numpy as np\n",
    "import pandas as pd\n",
    "import statsmodels.api as sm\n",
    "import matplotlib.pyplot as plt \n",
    "import seaborn as sbn\n",
    "from IPython.core.display import HTML\n",
    "sbn.set_style('darkgrid')\n",
    "%matplotlib inline"
   ]
  },
  {
   "cell_type": "code",
   "execution_count": 8,
   "metadata": {
    "collapsed": true
   },
   "outputs": [],
   "source": [
    "states = {\n",
    "        'AK': 'Alaska',\n",
    "        'AL': 'Alabama',\n",
    "        'AR': 'Arkansas',\n",
    "        'AS': 'American Samoa',\n",
    "        'AZ': 'Arizona',\n",
    "        'CA': 'California',\n",
    "        'CO': 'Colorado',\n",
    "        'CT': 'Connecticut',\n",
    "        'DC': 'District of Columbia',\n",
    "        'DE': 'Delaware',\n",
    "        'FL': 'Florida',\n",
    "        'GA': 'Georgia',\n",
    "        'GU': 'Guam',\n",
    "        'HI': 'Hawaii',\n",
    "        'IA': 'Iowa',\n",
    "        'ID': 'Idaho',\n",
    "        'IL': 'Illinois',\n",
    "        'IN': 'Indiana',\n",
    "        'KS': 'Kansas',\n",
    "        'KY': 'Kentucky',\n",
    "        'LA': 'Louisiana',\n",
    "        'MA': 'Massachusetts',\n",
    "        'MD': 'Maryland',\n",
    "        'ME': 'Maine',\n",
    "        'MI': 'Michigan',\n",
    "        'MN': 'Minnesota',\n",
    "        'MO': 'Missouri',\n",
    "        'MP': 'Northern Mariana Islands',\n",
    "        'MS': 'Mississippi',\n",
    "        'MT': 'Montana',\n",
    "        'NA': 'National',\n",
    "        'NC': 'North Carolina',\n",
    "        'ND': 'North Dakota',\n",
    "        'NE': 'Nebraska',\n",
    "        'NH': 'New Hampshire',\n",
    "        'NJ': 'New Jersey',\n",
    "        'NM': 'New Mexico',\n",
    "        'NV': 'Nevada',\n",
    "        'NY': 'New York',\n",
    "        'OH': 'Ohio',\n",
    "        'OK': 'Oklahoma',\n",
    "        'OR': 'Oregon',\n",
    "        'PA': 'Pennsylvania',\n",
    "        'PR': 'Puerto Rico',\n",
    "        'RI': 'Rhode Island',\n",
    "        'SC': 'South Carolina',\n",
    "        'SD': 'South Dakota',\n",
    "        'TN': 'Tennessee',\n",
    "        'TX': 'Texas',\n",
    "        'UT': 'Utah',\n",
    "        'VA': 'Virginia',\n",
    "        'VI': 'Virgin Islands',\n",
    "        'VT': 'Vermont',\n",
    "        'WA': 'Washington',\n",
    "        'WI': 'Wisconsin',\n",
    "        'WV': 'West Virginia',\n",
    "        'WY': 'Wyoming'\n",
    "}"
   ]
  },
  {
   "cell_type": "code",
   "execution_count": 50,
   "metadata": {
    "collapsed": true
   },
   "outputs": [],
   "source": [
    "map_df = pd.read_csv('ACS_12_5YR_B01003_with_ann.csv', dtype=str)"
   ]
  },
  {
   "cell_type": "code",
   "execution_count": 176,
   "metadata": {
    "collapsed": false
   },
   "outputs": [
    {
     "name": "stdout",
     "output_type": "stream",
     "text": [
      "(3143, 5)\n"
     ]
    },
    {
     "data": {
      "text/html": [
       "<div>\n",
       "<table border=\"1\" class=\"dataframe\">\n",
       "  <thead>\n",
       "    <tr style=\"text-align: right;\">\n",
       "      <th></th>\n",
       "      <th>Id</th>\n",
       "      <th>Id2</th>\n",
       "      <th>Geography</th>\n",
       "      <th>Estimate; Total</th>\n",
       "      <th>Margin of Error; Total</th>\n",
       "    </tr>\n",
       "  </thead>\n",
       "  <tbody>\n",
       "    <tr>\n",
       "      <th>0</th>\n",
       "      <td>0500000US01001</td>\n",
       "      <td>01001</td>\n",
       "      <td>Autauga County, Alabama</td>\n",
       "      <td>54590</td>\n",
       "      <td>*****</td>\n",
       "    </tr>\n",
       "    <tr>\n",
       "      <th>1</th>\n",
       "      <td>0500000US01003</td>\n",
       "      <td>01003</td>\n",
       "      <td>Baldwin County, Alabama</td>\n",
       "      <td>183226</td>\n",
       "      <td>*****</td>\n",
       "    </tr>\n",
       "    <tr>\n",
       "      <th>2</th>\n",
       "      <td>0500000US01005</td>\n",
       "      <td>01005</td>\n",
       "      <td>Barbour County, Alabama</td>\n",
       "      <td>27469</td>\n",
       "      <td>*****</td>\n",
       "    </tr>\n",
       "    <tr>\n",
       "      <th>3</th>\n",
       "      <td>0500000US01007</td>\n",
       "      <td>01007</td>\n",
       "      <td>Bibb County, Alabama</td>\n",
       "      <td>22769</td>\n",
       "      <td>*****</td>\n",
       "    </tr>\n",
       "    <tr>\n",
       "      <th>4</th>\n",
       "      <td>0500000US01009</td>\n",
       "      <td>01009</td>\n",
       "      <td>Blount County, Alabama</td>\n",
       "      <td>57466</td>\n",
       "      <td>*****</td>\n",
       "    </tr>\n",
       "  </tbody>\n",
       "</table>\n",
       "</div>"
      ],
      "text/plain": [
       "               Id    Id2                Geography Estimate; Total  \\\n",
       "0  0500000US01001  01001  Autauga County, Alabama           54590   \n",
       "1  0500000US01003  01003  Baldwin County, Alabama          183226   \n",
       "2  0500000US01005  01005  Barbour County, Alabama           27469   \n",
       "3  0500000US01007  01007     Bibb County, Alabama           22769   \n",
       "4  0500000US01009  01009   Blount County, Alabama           57466   \n",
       "\n",
       "  Margin of Error; Total  \n",
       "0                  *****  \n",
       "1                  *****  \n",
       "2                  *****  \n",
       "3                  *****  \n",
       "4                  *****  "
      ]
     },
     "execution_count": 176,
     "metadata": {},
     "output_type": "execute_result"
    }
   ],
   "source": [
    "print map_df.shape\n",
    "map_df.head()"
   ]
  },
  {
   "cell_type": "code",
   "execution_count": 177,
   "metadata": {
    "collapsed": false
   },
   "outputs": [
    {
     "name": "stdout",
     "output_type": "stream",
     "text": [
      "(1109, 242)\n"
     ]
    }
   ],
   "source": [
    "ZHVI_df = pd.read_csv('County_Zhvi_AllHomes.csv')\n",
    "print ZHVI_df.shape"
   ]
  },
  {
   "cell_type": "code",
   "execution_count": 19,
   "metadata": {
    "collapsed": false,
    "scrolled": true
   },
   "outputs": [
    {
     "data": {
      "text/html": [
       "<div>\n",
       "<table border=\"1\" class=\"dataframe\">\n",
       "  <thead>\n",
       "    <tr style=\"text-align: right;\">\n",
       "      <th></th>\n",
       "      <th>RegionID</th>\n",
       "      <th>RegionName</th>\n",
       "      <th>State</th>\n",
       "      <th>Metro</th>\n",
       "      <th>StateCodeFIPS</th>\n",
       "      <th>MunicipalCodeFIPS</th>\n",
       "      <th>SizeRank</th>\n",
       "      <th>1996-04</th>\n",
       "      <th>1996-05</th>\n",
       "      <th>1996-06</th>\n",
       "      <th>...</th>\n",
       "      <th>2015-01</th>\n",
       "      <th>2015-02</th>\n",
       "      <th>2015-03</th>\n",
       "      <th>2015-04</th>\n",
       "      <th>2015-05</th>\n",
       "      <th>2015-06</th>\n",
       "      <th>2015-07</th>\n",
       "      <th>2015-08</th>\n",
       "      <th>2015-09</th>\n",
       "      <th>2015-10</th>\n",
       "    </tr>\n",
       "  </thead>\n",
       "  <tbody>\n",
       "    <tr>\n",
       "      <th>0</th>\n",
       "      <td>3101</td>\n",
       "      <td>Los Angeles</td>\n",
       "      <td>California</td>\n",
       "      <td>Los Angeles-Long Beach-Anaheim, CA</td>\n",
       "      <td>6</td>\n",
       "      <td>37</td>\n",
       "      <td>1</td>\n",
       "      <td>161800</td>\n",
       "      <td>161700</td>\n",
       "      <td>161200</td>\n",
       "      <td>...</td>\n",
       "      <td>484800</td>\n",
       "      <td>487400</td>\n",
       "      <td>490600</td>\n",
       "      <td>493400</td>\n",
       "      <td>495400</td>\n",
       "      <td>498000</td>\n",
       "      <td>501000</td>\n",
       "      <td>504100</td>\n",
       "      <td>506800</td>\n",
       "      <td>509000</td>\n",
       "    </tr>\n",
       "    <tr>\n",
       "      <th>1</th>\n",
       "      <td>139</td>\n",
       "      <td>Cook</td>\n",
       "      <td>Illinois</td>\n",
       "      <td>Chicago</td>\n",
       "      <td>17</td>\n",
       "      <td>31</td>\n",
       "      <td>2</td>\n",
       "      <td>126400</td>\n",
       "      <td>126700</td>\n",
       "      <td>126500</td>\n",
       "      <td>...</td>\n",
       "      <td>186100</td>\n",
       "      <td>185600</td>\n",
       "      <td>185300</td>\n",
       "      <td>186000</td>\n",
       "      <td>188000</td>\n",
       "      <td>190200</td>\n",
       "      <td>191800</td>\n",
       "      <td>192700</td>\n",
       "      <td>193600</td>\n",
       "      <td>194500</td>\n",
       "    </tr>\n",
       "    <tr>\n",
       "      <th>2</th>\n",
       "      <td>1090</td>\n",
       "      <td>Harris</td>\n",
       "      <td>Texas</td>\n",
       "      <td>Houston</td>\n",
       "      <td>48</td>\n",
       "      <td>201</td>\n",
       "      <td>3</td>\n",
       "      <td>72600</td>\n",
       "      <td>72600</td>\n",
       "      <td>72500</td>\n",
       "      <td>...</td>\n",
       "      <td>145700</td>\n",
       "      <td>146400</td>\n",
       "      <td>148000</td>\n",
       "      <td>150200</td>\n",
       "      <td>151600</td>\n",
       "      <td>152300</td>\n",
       "      <td>153200</td>\n",
       "      <td>154100</td>\n",
       "      <td>154600</td>\n",
       "      <td>154900</td>\n",
       "    </tr>\n",
       "    <tr>\n",
       "      <th>3</th>\n",
       "      <td>2402</td>\n",
       "      <td>Maricopa</td>\n",
       "      <td>Arizona</td>\n",
       "      <td>Phoenix</td>\n",
       "      <td>4</td>\n",
       "      <td>13</td>\n",
       "      <td>4</td>\n",
       "      <td>106800</td>\n",
       "      <td>106900</td>\n",
       "      <td>107200</td>\n",
       "      <td>...</td>\n",
       "      <td>207300</td>\n",
       "      <td>208200</td>\n",
       "      <td>209000</td>\n",
       "      <td>209600</td>\n",
       "      <td>210800</td>\n",
       "      <td>212200</td>\n",
       "      <td>213400</td>\n",
       "      <td>214800</td>\n",
       "      <td>217000</td>\n",
       "      <td>219100</td>\n",
       "    </tr>\n",
       "    <tr>\n",
       "      <th>4</th>\n",
       "      <td>2841</td>\n",
       "      <td>San Diego</td>\n",
       "      <td>California</td>\n",
       "      <td>San Diego</td>\n",
       "      <td>6</td>\n",
       "      <td>73</td>\n",
       "      <td>5</td>\n",
       "      <td>164100</td>\n",
       "      <td>163900</td>\n",
       "      <td>163600</td>\n",
       "      <td>...</td>\n",
       "      <td>471700</td>\n",
       "      <td>475000</td>\n",
       "      <td>477900</td>\n",
       "      <td>479500</td>\n",
       "      <td>480900</td>\n",
       "      <td>482300</td>\n",
       "      <td>484200</td>\n",
       "      <td>486300</td>\n",
       "      <td>489100</td>\n",
       "      <td>491700</td>\n",
       "    </tr>\n",
       "  </tbody>\n",
       "</table>\n",
       "<p>5 rows × 242 columns</p>\n",
       "</div>"
      ],
      "text/plain": [
       "   RegionID   RegionName       State                               Metro  \\\n",
       "0      3101  Los Angeles  California  Los Angeles-Long Beach-Anaheim, CA   \n",
       "1       139         Cook    Illinois                             Chicago   \n",
       "2      1090       Harris       Texas                             Houston   \n",
       "3      2402     Maricopa     Arizona                             Phoenix   \n",
       "4      2841    San Diego  California                           San Diego   \n",
       "\n",
       "   StateCodeFIPS  MunicipalCodeFIPS  SizeRank  1996-04  1996-05  1996-06  \\\n",
       "0              6                 37         1   161800   161700   161200   \n",
       "1             17                 31         2   126400   126700   126500   \n",
       "2             48                201         3    72600    72600    72500   \n",
       "3              4                 13         4   106800   106900   107200   \n",
       "4              6                 73         5   164100   163900   163600   \n",
       "\n",
       "    ...     2015-01  2015-02  2015-03  2015-04  2015-05  2015-06  2015-07  \\\n",
       "0   ...      484800   487400   490600   493400   495400   498000   501000   \n",
       "1   ...      186100   185600   185300   186000   188000   190200   191800   \n",
       "2   ...      145700   146400   148000   150200   151600   152300   153200   \n",
       "3   ...      207300   208200   209000   209600   210800   212200   213400   \n",
       "4   ...      471700   475000   477900   479500   480900   482300   484200   \n",
       "\n",
       "   2015-08  2015-09  2015-10  \n",
       "0   504100   506800   509000  \n",
       "1   192700   193600   194500  \n",
       "2   154100   154600   154900  \n",
       "3   214800   217000   219100  \n",
       "4   486300   489100   491700  \n",
       "\n",
       "[5 rows x 242 columns]"
      ]
     },
     "execution_count": 19,
     "metadata": {},
     "output_type": "execute_result"
    }
   ],
   "source": [
    "ZHVI_df = ZHVI_df.replace({\"State\": states})\n",
    "ZHVI_df.head()"
   ]
  },
  {
   "cell_type": "code",
   "execution_count": 129,
   "metadata": {
    "collapsed": true
   },
   "outputs": [],
   "source": [
    "counties = ZHVI_df[\"RegionName\"] + \" County, \" + ZHVI_df[\"State\"]\n",
    "ZHVI_df_converted = pd.concat([pd.Series(counties, name=\"Geography\"), ZHVI_df], axis=1)"
   ]
  },
  {
   "cell_type": "code",
   "execution_count": 131,
   "metadata": {
    "collapsed": false
   },
   "outputs": [
    {
     "data": {
      "text/html": [
       "<div>\n",
       "<table border=\"1\" class=\"dataframe\">\n",
       "  <thead>\n",
       "    <tr style=\"text-align: right;\">\n",
       "      <th></th>\n",
       "      <th>Geography</th>\n",
       "      <th>RegionID</th>\n",
       "      <th>RegionName</th>\n",
       "      <th>State</th>\n",
       "      <th>Metro</th>\n",
       "      <th>StateCodeFIPS</th>\n",
       "      <th>MunicipalCodeFIPS</th>\n",
       "      <th>SizeRank</th>\n",
       "      <th>1996-04</th>\n",
       "      <th>1996-05</th>\n",
       "      <th>...</th>\n",
       "      <th>2015-01</th>\n",
       "      <th>2015-02</th>\n",
       "      <th>2015-03</th>\n",
       "      <th>2015-04</th>\n",
       "      <th>2015-05</th>\n",
       "      <th>2015-06</th>\n",
       "      <th>2015-07</th>\n",
       "      <th>2015-08</th>\n",
       "      <th>2015-09</th>\n",
       "      <th>2015-10</th>\n",
       "    </tr>\n",
       "  </thead>\n",
       "  <tbody>\n",
       "    <tr>\n",
       "      <th>0</th>\n",
       "      <td>Los Angeles County, California</td>\n",
       "      <td>3101</td>\n",
       "      <td>Los Angeles</td>\n",
       "      <td>California</td>\n",
       "      <td>Los Angeles-Long Beach-Anaheim, CA</td>\n",
       "      <td>6</td>\n",
       "      <td>37</td>\n",
       "      <td>1</td>\n",
       "      <td>161800</td>\n",
       "      <td>161700</td>\n",
       "      <td>...</td>\n",
       "      <td>484800</td>\n",
       "      <td>487400</td>\n",
       "      <td>490600</td>\n",
       "      <td>493400</td>\n",
       "      <td>495400</td>\n",
       "      <td>498000</td>\n",
       "      <td>501000</td>\n",
       "      <td>504100</td>\n",
       "      <td>506800</td>\n",
       "      <td>509000</td>\n",
       "    </tr>\n",
       "    <tr>\n",
       "      <th>1</th>\n",
       "      <td>Cook County, Illinois</td>\n",
       "      <td>139</td>\n",
       "      <td>Cook</td>\n",
       "      <td>Illinois</td>\n",
       "      <td>Chicago</td>\n",
       "      <td>17</td>\n",
       "      <td>31</td>\n",
       "      <td>2</td>\n",
       "      <td>126400</td>\n",
       "      <td>126700</td>\n",
       "      <td>...</td>\n",
       "      <td>186100</td>\n",
       "      <td>185600</td>\n",
       "      <td>185300</td>\n",
       "      <td>186000</td>\n",
       "      <td>188000</td>\n",
       "      <td>190200</td>\n",
       "      <td>191800</td>\n",
       "      <td>192700</td>\n",
       "      <td>193600</td>\n",
       "      <td>194500</td>\n",
       "    </tr>\n",
       "    <tr>\n",
       "      <th>2</th>\n",
       "      <td>Harris County, Texas</td>\n",
       "      <td>1090</td>\n",
       "      <td>Harris</td>\n",
       "      <td>Texas</td>\n",
       "      <td>Houston</td>\n",
       "      <td>48</td>\n",
       "      <td>201</td>\n",
       "      <td>3</td>\n",
       "      <td>72600</td>\n",
       "      <td>72600</td>\n",
       "      <td>...</td>\n",
       "      <td>145700</td>\n",
       "      <td>146400</td>\n",
       "      <td>148000</td>\n",
       "      <td>150200</td>\n",
       "      <td>151600</td>\n",
       "      <td>152300</td>\n",
       "      <td>153200</td>\n",
       "      <td>154100</td>\n",
       "      <td>154600</td>\n",
       "      <td>154900</td>\n",
       "    </tr>\n",
       "    <tr>\n",
       "      <th>3</th>\n",
       "      <td>Maricopa County, Arizona</td>\n",
       "      <td>2402</td>\n",
       "      <td>Maricopa</td>\n",
       "      <td>Arizona</td>\n",
       "      <td>Phoenix</td>\n",
       "      <td>4</td>\n",
       "      <td>13</td>\n",
       "      <td>4</td>\n",
       "      <td>106800</td>\n",
       "      <td>106900</td>\n",
       "      <td>...</td>\n",
       "      <td>207300</td>\n",
       "      <td>208200</td>\n",
       "      <td>209000</td>\n",
       "      <td>209600</td>\n",
       "      <td>210800</td>\n",
       "      <td>212200</td>\n",
       "      <td>213400</td>\n",
       "      <td>214800</td>\n",
       "      <td>217000</td>\n",
       "      <td>219100</td>\n",
       "    </tr>\n",
       "    <tr>\n",
       "      <th>4</th>\n",
       "      <td>San Diego County, California</td>\n",
       "      <td>2841</td>\n",
       "      <td>San Diego</td>\n",
       "      <td>California</td>\n",
       "      <td>San Diego</td>\n",
       "      <td>6</td>\n",
       "      <td>73</td>\n",
       "      <td>5</td>\n",
       "      <td>164100</td>\n",
       "      <td>163900</td>\n",
       "      <td>...</td>\n",
       "      <td>471700</td>\n",
       "      <td>475000</td>\n",
       "      <td>477900</td>\n",
       "      <td>479500</td>\n",
       "      <td>480900</td>\n",
       "      <td>482300</td>\n",
       "      <td>484200</td>\n",
       "      <td>486300</td>\n",
       "      <td>489100</td>\n",
       "      <td>491700</td>\n",
       "    </tr>\n",
       "  </tbody>\n",
       "</table>\n",
       "<p>5 rows × 243 columns</p>\n",
       "</div>"
      ],
      "text/plain": [
       "                        Geography  RegionID   RegionName       State  \\\n",
       "0  Los Angeles County, California      3101  Los Angeles  California   \n",
       "1           Cook County, Illinois       139         Cook    Illinois   \n",
       "2            Harris County, Texas      1090       Harris       Texas   \n",
       "3        Maricopa County, Arizona      2402     Maricopa     Arizona   \n",
       "4    San Diego County, California      2841    San Diego  California   \n",
       "\n",
       "                                Metro  StateCodeFIPS  MunicipalCodeFIPS  \\\n",
       "0  Los Angeles-Long Beach-Anaheim, CA              6                 37   \n",
       "1                             Chicago             17                 31   \n",
       "2                             Houston             48                201   \n",
       "3                             Phoenix              4                 13   \n",
       "4                           San Diego              6                 73   \n",
       "\n",
       "   SizeRank  1996-04  1996-05   ...     2015-01  2015-02  2015-03  2015-04  \\\n",
       "0         1   161800   161700   ...      484800   487400   490600   493400   \n",
       "1         2   126400   126700   ...      186100   185600   185300   186000   \n",
       "2         3    72600    72600   ...      145700   146400   148000   150200   \n",
       "3         4   106800   106900   ...      207300   208200   209000   209600   \n",
       "4         5   164100   163900   ...      471700   475000   477900   479500   \n",
       "\n",
       "   2015-05  2015-06  2015-07  2015-08  2015-09  2015-10  \n",
       "0   495400   498000   501000   504100   506800   509000  \n",
       "1   188000   190200   191800   192700   193600   194500  \n",
       "2   151600   152300   153200   154100   154600   154900  \n",
       "3   210800   212200   213400   214800   217000   219100  \n",
       "4   480900   482300   484200   486300   489100   491700  \n",
       "\n",
       "[5 rows x 243 columns]"
      ]
     },
     "execution_count": 131,
     "metadata": {},
     "output_type": "execute_result"
    }
   ],
   "source": [
    "ZHVI_df_converted.head()"
   ]
  },
  {
   "cell_type": "code",
   "execution_count": 181,
   "metadata": {
    "collapsed": true
   },
   "outputs": [],
   "source": [
    "merge_df = pd.merge(map_df, ZHVI_df_converted, on='Geography', how='left')"
   ]
  },
  {
   "cell_type": "code",
   "execution_count": 182,
   "metadata": {
    "collapsed": false
   },
   "outputs": [],
   "source": [
    "merge_df = merge_df.fillna(0)"
   ]
  },
  {
   "cell_type": "code",
   "execution_count": 207,
   "metadata": {
    "collapsed": false
   },
   "outputs": [],
   "source": [
    "ZHVI_df_new = merge_df.loc[:,\"1996-04\":\"2015-10\"]"
   ]
  },
  {
   "cell_type": "code",
   "execution_count": 184,
   "metadata": {
    "collapsed": false
   },
   "outputs": [],
   "source": [
    "names = []\n",
    "for i in range(1996,2016):\n",
    "    for j in [\"Jan\",\"Feb\",\"Mar\",\"Apr\",\"May\",\"Jun\",\"Jul\",\"Aug\",\"Sep\",\"Oct\",\"Nov\",\"Dec\"]:\n",
    "        names.append(j+str(i))\n"
   ]
  },
  {
   "cell_type": "code",
   "execution_count": 185,
   "metadata": {
    "collapsed": false
   },
   "outputs": [],
   "source": [
    "names = names[3:238]"
   ]
  },
  {
   "cell_type": "code",
   "execution_count": 192,
   "metadata": {
    "collapsed": false
   },
   "outputs": [],
   "source": [
    "#ZHVI_df_new.columns = names\n",
    "ZHVI_df_new.columns = [\"aaa\", \"bbbb\", \"cccc\"]"
   ]
  },
  {
   "cell_type": "code",
   "execution_count": 208,
   "metadata": {
    "collapsed": false
   },
   "outputs": [],
   "source": [
    "dict_c = []\n",
    "\n",
    "for i in range(len(ZHVI_df_new)):\n",
    "#    dict_c.append(ZHVI_df_new.iloc[i].to_dict())\n",
    "    dict_c.append(list(ZHVI_df_new.iloc[i]))"
   ]
  },
  {
   "cell_type": "code",
   "execution_count": 209,
   "metadata": {
    "collapsed": false
   },
   "outputs": [],
   "source": [
    "result = pd.concat([merge_df[[\"Geography\", \"Id\", \"Id2\", \"Margin of Error; Total\"]], pd.Series(dict_c, name=\"HZVI\")], axis=1)"
   ]
  },
  {
   "cell_type": "code",
   "execution_count": 220,
   "metadata": {
    "collapsed": false
   },
   "outputs": [],
   "source": [
    "df = pd.Series(names)\n",
    "df.to_csv(\"datas.csv\", index=False)"
   ]
  },
  {
   "cell_type": "code",
   "execution_count": 221,
   "metadata": {
    "collapsed": false
   },
   "outputs": [
    {
     "data": {
      "text/plain": [
       "235"
      ]
     },
     "execution_count": 221,
     "metadata": {},
     "output_type": "execute_result"
    }
   ],
   "source": [
    "len(names)"
   ]
  },
  {
   "cell_type": "code",
   "execution_count": 210,
   "metadata": {
    "collapsed": false
   },
   "outputs": [
    {
     "data": {
      "text/html": [
       "<div>\n",
       "<table border=\"1\" class=\"dataframe\">\n",
       "  <thead>\n",
       "    <tr style=\"text-align: right;\">\n",
       "      <th></th>\n",
       "      <th>Geography</th>\n",
       "      <th>Id</th>\n",
       "      <th>Id2</th>\n",
       "      <th>Margin of Error; Total</th>\n",
       "      <th>HZVI</th>\n",
       "    </tr>\n",
       "  </thead>\n",
       "  <tbody>\n",
       "    <tr>\n",
       "      <th>0</th>\n",
       "      <td>Autauga County, Alabama</td>\n",
       "      <td>0500000US01001</td>\n",
       "      <td>01001</td>\n",
       "      <td>*****</td>\n",
       "      <td>[0.0, 0.0, 0.0, 0.0, 0.0, 0.0, 0.0, 0.0, 0.0, ...</td>\n",
       "    </tr>\n",
       "    <tr>\n",
       "      <th>1</th>\n",
       "      <td>Baldwin County, Alabama</td>\n",
       "      <td>0500000US01003</td>\n",
       "      <td>01003</td>\n",
       "      <td>*****</td>\n",
       "      <td>[107500.0, 108000.0, 108900.0, 109300.0, 10990...</td>\n",
       "    </tr>\n",
       "    <tr>\n",
       "      <th>2</th>\n",
       "      <td>Barbour County, Alabama</td>\n",
       "      <td>0500000US01005</td>\n",
       "      <td>01005</td>\n",
       "      <td>*****</td>\n",
       "      <td>[0.0, 0.0, 0.0, 0.0, 0.0, 0.0, 0.0, 0.0, 0.0, ...</td>\n",
       "    </tr>\n",
       "    <tr>\n",
       "      <th>3</th>\n",
       "      <td>Bibb County, Alabama</td>\n",
       "      <td>0500000US01007</td>\n",
       "      <td>01007</td>\n",
       "      <td>*****</td>\n",
       "      <td>[70300.0, 70300.0, 71400.0, 73600.0, 75500.0, ...</td>\n",
       "    </tr>\n",
       "    <tr>\n",
       "      <th>4</th>\n",
       "      <td>Blount County, Alabama</td>\n",
       "      <td>0500000US01009</td>\n",
       "      <td>01009</td>\n",
       "      <td>*****</td>\n",
       "      <td>[0.0, 0.0, 0.0, 0.0, 0.0, 0.0, 0.0, 0.0, 0.0, ...</td>\n",
       "    </tr>\n",
       "  </tbody>\n",
       "</table>\n",
       "</div>"
      ],
      "text/plain": [
       "                 Geography              Id    Id2 Margin of Error; Total  \\\n",
       "0  Autauga County, Alabama  0500000US01001  01001                  *****   \n",
       "1  Baldwin County, Alabama  0500000US01003  01003                  *****   \n",
       "2  Barbour County, Alabama  0500000US01005  01005                  *****   \n",
       "3     Bibb County, Alabama  0500000US01007  01007                  *****   \n",
       "4   Blount County, Alabama  0500000US01009  01009                  *****   \n",
       "\n",
       "                                                HZVI  \n",
       "0  [0.0, 0.0, 0.0, 0.0, 0.0, 0.0, 0.0, 0.0, 0.0, ...  \n",
       "1  [107500.0, 108000.0, 108900.0, 109300.0, 10990...  \n",
       "2  [0.0, 0.0, 0.0, 0.0, 0.0, 0.0, 0.0, 0.0, 0.0, ...  \n",
       "3  [70300.0, 70300.0, 71400.0, 73600.0, 75500.0, ...  \n",
       "4  [0.0, 0.0, 0.0, 0.0, 0.0, 0.0, 0.0, 0.0, 0.0, ...  "
      ]
     },
     "execution_count": 210,
     "metadata": {},
     "output_type": "execute_result"
    }
   ],
   "source": [
    "result.head()"
   ]
  },
  {
   "cell_type": "code",
   "execution_count": 198,
   "metadata": {
    "collapsed": true
   },
   "outputs": [],
   "source": [
    "output[[\"Id\", \"Id2\", \"Geography\", \"HZVI\", \"Margin of Error; Total\"]] = merge_df[[\"Id\", \"Id2\", \"Geography\", \"2015-10\", \"Margin of Error; Total\"]]"
   ]
  },
  {
   "cell_type": "code",
   "execution_count": 211,
   "metadata": {
    "collapsed": false
   },
   "outputs": [],
   "source": [
    "output = result[[\"Id\", \"Id2\", \"Geography\", \"HZVI\", \"Margin of Error; Total\"]]"
   ]
  },
  {
   "cell_type": "code",
   "execution_count": 212,
   "metadata": {
    "collapsed": false
   },
   "outputs": [],
   "source": [
    "output.to_csv(\"HZVI_counties_data.csv\", index=False)"
   ]
  },
  {
   "cell_type": "code",
   "execution_count": 69,
   "metadata": {
    "collapsed": false
   },
   "outputs": [
    {
     "data": {
      "text/plain": [
       "6    {u'2003-12': 393300.0, u'2003-10': 0.0, u'2003...\n",
       "Name: HZVI, dtype: object"
      ]
     },
     "execution_count": 69,
     "metadata": {},
     "output_type": "execute_result"
    }
   ],
   "source": [
    "output[output[\"Geography\"] == \"Kings County, New York\"][\"HZVI\"]"
   ]
  },
  {
   "cell_type": "code",
   "execution_count": 77,
   "metadata": {
    "collapsed": false
   },
   "outputs": [
    {
     "ename": "TypeError",
     "evalue": "data type not understood",
     "output_type": "error",
     "traceback": [
      "\u001b[0;31m---------------------------------------------------------------------------\u001b[0m",
      "\u001b[0;31mTypeError\u001b[0m                                 Traceback (most recent call last)",
      "\u001b[0;32m<ipython-input-77-9098d9d798f1>\u001b[0m in \u001b[0;36m<module>\u001b[0;34m()\u001b[0m\n\u001b[0;32m----> 1\u001b[0;31m \u001b[0moutput\u001b[0m\u001b[0;34m[\u001b[0m\u001b[0;34m\"HZVI\"\u001b[0m\u001b[0;34m]\u001b[0m \u001b[0;34m=\u001b[0m \u001b[0moutput\u001b[0m\u001b[0;34m[\u001b[0m\u001b[0;34m\"HZVI\"\u001b[0m\u001b[0;34m]\u001b[0m\u001b[0;34m.\u001b[0m\u001b[0mastype\u001b[0m\u001b[0;34m(\u001b[0m\u001b[0mdict\u001b[0m\u001b[0;34m)\u001b[0m\u001b[0;34m\u001b[0m\u001b[0m\n\u001b[0m",
      "\u001b[0;32m/Users/shchao53/Han/venv/lib/python2.7/site-packages/pandas/core/generic.pyc\u001b[0m in \u001b[0;36mastype\u001b[0;34m(self, dtype, copy, raise_on_error, **kwargs)\u001b[0m\n\u001b[1;32m   2409\u001b[0m \u001b[0;34m\u001b[0m\u001b[0m\n\u001b[1;32m   2410\u001b[0m         mgr = self._data.astype(\n\u001b[0;32m-> 2411\u001b[0;31m             dtype=dtype, copy=copy, raise_on_error=raise_on_error, **kwargs)\n\u001b[0m\u001b[1;32m   2412\u001b[0m         \u001b[0;32mreturn\u001b[0m \u001b[0mself\u001b[0m\u001b[0;34m.\u001b[0m\u001b[0m_constructor\u001b[0m\u001b[0;34m(\u001b[0m\u001b[0mmgr\u001b[0m\u001b[0;34m)\u001b[0m\u001b[0;34m.\u001b[0m\u001b[0m__finalize__\u001b[0m\u001b[0;34m(\u001b[0m\u001b[0mself\u001b[0m\u001b[0;34m)\u001b[0m\u001b[0;34m\u001b[0m\u001b[0m\n\u001b[1;32m   2413\u001b[0m \u001b[0;34m\u001b[0m\u001b[0m\n",
      "\u001b[0;32m/Users/shchao53/Han/venv/lib/python2.7/site-packages/pandas/core/internals.pyc\u001b[0m in \u001b[0;36mastype\u001b[0;34m(self, dtype, **kwargs)\u001b[0m\n\u001b[1;32m   2502\u001b[0m \u001b[0;34m\u001b[0m\u001b[0m\n\u001b[1;32m   2503\u001b[0m     \u001b[0;32mdef\u001b[0m \u001b[0mastype\u001b[0m\u001b[0;34m(\u001b[0m\u001b[0mself\u001b[0m\u001b[0;34m,\u001b[0m \u001b[0mdtype\u001b[0m\u001b[0;34m,\u001b[0m \u001b[0;34m**\u001b[0m\u001b[0mkwargs\u001b[0m\u001b[0;34m)\u001b[0m\u001b[0;34m:\u001b[0m\u001b[0;34m\u001b[0m\u001b[0m\n\u001b[0;32m-> 2504\u001b[0;31m         \u001b[0;32mreturn\u001b[0m \u001b[0mself\u001b[0m\u001b[0;34m.\u001b[0m\u001b[0mapply\u001b[0m\u001b[0;34m(\u001b[0m\u001b[0;34m'astype'\u001b[0m\u001b[0;34m,\u001b[0m \u001b[0mdtype\u001b[0m\u001b[0;34m=\u001b[0m\u001b[0mdtype\u001b[0m\u001b[0;34m,\u001b[0m \u001b[0;34m**\u001b[0m\u001b[0mkwargs\u001b[0m\u001b[0;34m)\u001b[0m\u001b[0;34m\u001b[0m\u001b[0m\n\u001b[0m\u001b[1;32m   2505\u001b[0m \u001b[0;34m\u001b[0m\u001b[0m\n\u001b[1;32m   2506\u001b[0m     \u001b[0;32mdef\u001b[0m \u001b[0mconvert\u001b[0m\u001b[0;34m(\u001b[0m\u001b[0mself\u001b[0m\u001b[0;34m,\u001b[0m \u001b[0;34m**\u001b[0m\u001b[0mkwargs\u001b[0m\u001b[0;34m)\u001b[0m\u001b[0;34m:\u001b[0m\u001b[0;34m\u001b[0m\u001b[0m\n",
      "\u001b[0;32m/Users/shchao53/Han/venv/lib/python2.7/site-packages/pandas/core/internals.pyc\u001b[0m in \u001b[0;36mapply\u001b[0;34m(self, f, axes, filter, do_integrity_check, **kwargs)\u001b[0m\n\u001b[1;32m   2457\u001b[0m                                                  copy=align_copy)\n\u001b[1;32m   2458\u001b[0m \u001b[0;34m\u001b[0m\u001b[0m\n\u001b[0;32m-> 2459\u001b[0;31m             \u001b[0mapplied\u001b[0m \u001b[0;34m=\u001b[0m \u001b[0mgetattr\u001b[0m\u001b[0;34m(\u001b[0m\u001b[0mb\u001b[0m\u001b[0;34m,\u001b[0m \u001b[0mf\u001b[0m\u001b[0;34m)\u001b[0m\u001b[0;34m(\u001b[0m\u001b[0;34m**\u001b[0m\u001b[0mkwargs\u001b[0m\u001b[0;34m)\u001b[0m\u001b[0;34m\u001b[0m\u001b[0m\n\u001b[0m\u001b[1;32m   2460\u001b[0m \u001b[0;34m\u001b[0m\u001b[0m\n\u001b[1;32m   2461\u001b[0m             \u001b[0;32mif\u001b[0m \u001b[0misinstance\u001b[0m\u001b[0;34m(\u001b[0m\u001b[0mapplied\u001b[0m\u001b[0;34m,\u001b[0m \u001b[0mlist\u001b[0m\u001b[0;34m)\u001b[0m\u001b[0;34m:\u001b[0m\u001b[0;34m\u001b[0m\u001b[0m\n",
      "\u001b[0;32m/Users/shchao53/Han/venv/lib/python2.7/site-packages/pandas/core/internals.pyc\u001b[0m in \u001b[0;36mastype\u001b[0;34m(self, dtype, copy, raise_on_error, values, **kwargs)\u001b[0m\n\u001b[1;32m    371\u001b[0m     \u001b[0;32mdef\u001b[0m \u001b[0mastype\u001b[0m\u001b[0;34m(\u001b[0m\u001b[0mself\u001b[0m\u001b[0;34m,\u001b[0m \u001b[0mdtype\u001b[0m\u001b[0;34m,\u001b[0m \u001b[0mcopy\u001b[0m\u001b[0;34m=\u001b[0m\u001b[0mFalse\u001b[0m\u001b[0;34m,\u001b[0m \u001b[0mraise_on_error\u001b[0m\u001b[0;34m=\u001b[0m\u001b[0mTrue\u001b[0m\u001b[0;34m,\u001b[0m \u001b[0mvalues\u001b[0m\u001b[0;34m=\u001b[0m\u001b[0mNone\u001b[0m\u001b[0;34m,\u001b[0m \u001b[0;34m**\u001b[0m\u001b[0mkwargs\u001b[0m\u001b[0;34m)\u001b[0m\u001b[0;34m:\u001b[0m\u001b[0;34m\u001b[0m\u001b[0m\n\u001b[1;32m    372\u001b[0m         return self._astype(dtype, copy=copy, raise_on_error=raise_on_error,\n\u001b[0;32m--> 373\u001b[0;31m                             values=values, **kwargs)\n\u001b[0m\u001b[1;32m    374\u001b[0m \u001b[0;34m\u001b[0m\u001b[0m\n\u001b[1;32m    375\u001b[0m     def _astype(self, dtype, copy=False, raise_on_error=True, values=None,\n",
      "\u001b[0;32m/Users/shchao53/Han/venv/lib/python2.7/site-packages/pandas/core/internals.pyc\u001b[0m in \u001b[0;36m_astype\u001b[0;34m(self, dtype, copy, raise_on_error, values, klass, **kwargs)\u001b[0m\n\u001b[1;32m    388\u001b[0m \u001b[0;34m\u001b[0m\u001b[0m\n\u001b[1;32m    389\u001b[0m         \u001b[0;31m# astype processing\u001b[0m\u001b[0;34m\u001b[0m\u001b[0;34m\u001b[0m\u001b[0m\n\u001b[0;32m--> 390\u001b[0;31m         \u001b[0mdtype\u001b[0m \u001b[0;34m=\u001b[0m \u001b[0mnp\u001b[0m\u001b[0;34m.\u001b[0m\u001b[0mdtype\u001b[0m\u001b[0;34m(\u001b[0m\u001b[0mdtype\u001b[0m\u001b[0;34m)\u001b[0m\u001b[0;34m\u001b[0m\u001b[0m\n\u001b[0m\u001b[1;32m    391\u001b[0m         \u001b[0;32mif\u001b[0m \u001b[0mself\u001b[0m\u001b[0;34m.\u001b[0m\u001b[0mdtype\u001b[0m \u001b[0;34m==\u001b[0m \u001b[0mdtype\u001b[0m\u001b[0;34m:\u001b[0m\u001b[0;34m\u001b[0m\u001b[0m\n\u001b[1;32m    392\u001b[0m             \u001b[0;32mif\u001b[0m \u001b[0mcopy\u001b[0m\u001b[0;34m:\u001b[0m\u001b[0;34m\u001b[0m\u001b[0m\n",
      "\u001b[0;31mTypeError\u001b[0m: data type not understood"
     ]
    }
   ],
   "source": [
    "output[\"HZVI\"] = output[\"HZVI\"].astype(dict)"
   ]
  },
  {
   "cell_type": "code",
   "execution_count": 76,
   "metadata": {
    "collapsed": false
   },
   "outputs": [
    {
     "data": {
      "text/plain": [
       "Id                        object\n",
       "Id2                       object\n",
       "Geography                 object\n",
       "HZVI                      object\n",
       "Margin of Error; Total    object\n",
       "dtype: object"
      ]
     },
     "execution_count": 76,
     "metadata": {},
     "output_type": "execute_result"
    }
   ],
   "source": [
    "output.dtypes"
   ]
  },
  {
   "cell_type": "code",
   "execution_count": 214,
   "metadata": {
    "collapsed": false
   },
   "outputs": [
    {
     "ename": "TypeError",
     "evalue": "'list' object is not callable",
     "output_type": "error",
     "traceback": [
      "\u001b[0;31m---------------------------------------------------------------------------\u001b[0m",
      "\u001b[0;31mTypeError\u001b[0m                                 Traceback (most recent call last)",
      "\u001b[0;32m<ipython-input-214-b0ab7ba96421>\u001b[0m in \u001b[0;36m<module>\u001b[0;34m()\u001b[0m\n\u001b[0;32m----> 1\u001b[0;31m \u001b[0mdict\u001b[0m\u001b[0;34m(\u001b[0m\u001b[0mnames\u001b[0m\u001b[0;34m)\u001b[0m\u001b[0;34m\u001b[0m\u001b[0m\n\u001b[0m",
      "\u001b[0;31mTypeError\u001b[0m: 'list' object is not callable"
     ]
    }
   ],
   "source": [
    "dict(names)"
   ]
  },
  {
   "cell_type": "code",
   "execution_count": null,
   "metadata": {
    "collapsed": true
   },
   "outputs": [],
   "source": []
  }
 ],
 "metadata": {
  "kernelspec": {
   "display_name": "Python 2",
   "language": "python",
   "name": "python2"
  },
  "language_info": {
   "codemirror_mode": {
    "name": "ipython",
    "version": 2
   },
   "file_extension": ".py",
   "mimetype": "text/x-python",
   "name": "python",
   "nbconvert_exporter": "python",
   "pygments_lexer": "ipython2",
   "version": "2.7.2"
  }
 },
 "nbformat": 4,
 "nbformat_minor": 0
}
